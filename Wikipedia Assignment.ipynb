{
 "cells": [
  {
   "cell_type": "markdown",
   "metadata": {},
   "source": [
    "# Wikipedia Names by Year\n",
    "\n",
    "In this assignment my task was to pull all the names that have wikipedia articles for people born in the 150 years prior to and including 2015. "
   ]
  },
  {
   "cell_type": "markdown",
   "metadata": {},
   "source": [
    "# Prep"
   ]
  },
  {
   "cell_type": "code",
   "execution_count": 1,
   "metadata": {},
   "outputs": [],
   "source": [
    "import requests\n",
    "from collections import Counter\n",
    "from pprint import pprint\n",
    "\n",
    "wikipedia_api_url = \"https://en.wikipedia.org/w/api.php\"\n",
    "\n",
    "req = {'action':'query',\n",
    "          'format':'json',\n",
    "          'list':'categorymembers',\n",
    "          'cmlimit':500}"
   ]
  },
  {
   "cell_type": "code",
   "execution_count": 2,
   "metadata": {},
   "outputs": [
    {
     "data": {
      "text/plain": [
       "'https://en.wikipedia.org/w/api.php?action=query&format=json&list=categorymembers&cmlimit=500&cmtitle=Category%3A1865_births'"
      ]
     },
     "execution_count": 2,
     "metadata": {},
     "output_type": "execute_result"
    }
   ],
   "source": [
    "year = 1865\n",
    "req['cmtitle'] = ('Category:'+(str(year))+'_births')\n",
    "r = requests.get(wikipedia_api_url,params=req)\n",
    "r.url"
   ]
  },
  {
   "cell_type": "markdown",
   "metadata": {},
   "source": [
    "# Request"
   ]
  },
  {
   "cell_type": "code",
   "execution_count": 3,
   "metadata": {},
   "outputs": [],
   "source": [
    "person_dict = {}\n",
    "year = 1865\n",
    "count = 0\n",
    "\n",
    "last_continue = {}\n",
    "\n",
    "names = []\n",
    "\n",
    "while year <= 2015:\n",
    "    iteration = 1\n",
    "    req = {'action':'query',\n",
    "          'format':'json',\n",
    "          'list':'categorymembers',\n",
    "          'cmlimit':500}\n",
    "    req['cmtitle'] = ('Category:'+(str(year))+'_births')        \n",
    "    person_dict[year] = list()\n",
    "    \n",
    "    while True:\n",
    "        \n",
    "        \n",
    "        result = requests.get('https://en.wikipedia.org/w/api.php', params=req).json()\n",
    "        \n",
    " \n",
    "        for item in result['query']['categorymembers'] :\n",
    "            person_dict[year].append(item['title'])\n",
    "       \n",
    "        iteration += 1\n",
    "    \n",
    "        if 'continue' not in result :\n",
    "            break\n",
    "        else :\n",
    "            last_continue = result['continue']\n",
    "        \n",
    "        req.update(last_continue)\n",
    "        \n",
    "        if iteration > 300:\n",
    "            break\n",
    "    \n",
    "    year += 1"
   ]
  },
  {
   "cell_type": "markdown",
   "metadata": {},
   "source": [
    "# What Year Has The Most?"
   ]
  },
  {
   "cell_type": "code",
   "execution_count": 4,
   "metadata": {},
   "outputs": [
    {
     "name": "stdout",
     "output_type": "stream",
     "text": [
      "1988\n"
     ]
    }
   ],
   "source": [
    "long_ = 1\n",
    "winner = 1\n",
    "for year in person_dict:\n",
    "    if len(person_dict[year]) > long_:\n",
    "        long_ = len(person_dict[year])\n",
    "        winner = year \n",
    "\n",
    "print(winner)"
   ]
  },
  {
   "cell_type": "markdown",
   "metadata": {},
   "source": [
    "# Write Results"
   ]
  },
  {
   "cell_type": "code",
   "execution_count": 5,
   "metadata": {},
   "outputs": [],
   "source": [
    "with open(\"wikipedia_births.txt\", \"w\", encoding = \"UTF-8\") as birth:\n",
    "    birth.write(\"birth_year\\tname\\n\")\n",
    "    for year in person_dict:\n",
    "        for name in person_dict[year]:\n",
    "            birth.write(f\"{year}\\t{name}\\n\")\n"
   ]
  }
 ],
 "metadata": {
  "kernelspec": {
   "display_name": "Python 3 (ipykernel)",
   "language": "python",
   "name": "python3"
  },
  "language_info": {
   "codemirror_mode": {
    "name": "ipython",
    "version": 3
   },
   "file_extension": ".py",
   "mimetype": "text/x-python",
   "name": "python",
   "nbconvert_exporter": "python",
   "pygments_lexer": "ipython3",
   "version": "3.9.7"
  }
 },
 "nbformat": 4,
 "nbformat_minor": 2
}
